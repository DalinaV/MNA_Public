{
  "nbformat": 4,
  "nbformat_minor": 0,
  "metadata": {
    "colab": {
      "provenance": [],
      "collapsed_sections": [],
      "include_colab_link": true
    },
    "kernelspec": {
      "display_name": "Python 3",
      "name": "python3"
    }
  },
  "cells": [
    {
      "cell_type": "markdown",
      "metadata": {
        "id": "view-in-github",
        "colab_type": "text"
      },
      "source": [
        "<a href=\"https://colab.research.google.com/github/a01137646/MNA_Public/blob/main/Inteligencia%20artificial%20y%20aprendizaje%20autom%C3%A1tico/MNA_IAyAA_semana_6_Actividad.ipynb\" target=\"_parent\"><img src=\"https://colab.research.google.com/assets/colab-badge.svg\" alt=\"Open In Colab\"/></a>"
      ]
    },
    {
      "cell_type": "markdown",
      "source": [
        "#**Maestría en Inteligencia Artificial Aplicada**\n",
        "##**Curso: Inteligencia Artificial y Aprendizaje Automático**\n",
        "###Tecnológico de Monterrey\n",
        "###Prof Luis Eduardo Falcón Morales\n",
        "\n",
        "## **Adtividad de la Semana 6**\n",
        "###**Árboles de decisión y bosque aleatorio.**\n"
      ],
      "metadata": {
        "id": "VFj0sSM06dYa"
      }
    },
    {
      "cell_type": "markdown",
      "source": [
        "**Nombres y matrículas de los integrantes del equipo:**\n",
        "\n",
        "*   Gerardo Aaron Castañeda Jaramillo - A01137646\n",
        "*   \n",
        "*   \n",
        "*   \n",
        "*   \n"
      ],
      "metadata": {
        "id": "Qgrvy0RGB9XI"
      }
    },
    {
      "cell_type": "markdown",
      "source": [
        "En cada sección deberás incluir todas las líneas de código necesarias para responder a cada uno de los ejercicios."
      ],
      "metadata": {
        "id": "FrJ2ahMODVj1"
      }
    },
    {
      "cell_type": "code",
      "source": [
        "# Incluye aquí todos módulos, librerías y paquetes que requieras.\n",
        "import pandas as pd\n",
        "import numpy as np\n",
        "import matplotlib.pyplot as plt \n",
        "import seaborn as sns \n",
        "\n",
        "from sklearn.model_selection import train_test_split\n",
        "\n",
        "from sklearn.pipeline import Pipeline\n",
        "from sklearn.compose import ColumnTransformer\n",
        "\n",
        "from sklearn.impute import SimpleImputer\n",
        "from sklearn.preprocessing import MinMaxScaler, OneHotEncoder\n",
        "\n",
        "from sklearn.linear_model import LogisticRegression\n",
        "from sklearn.tree import DecisionTreeClassifier\n",
        "from sklearn.ensemble import RandomForestClassifier \n",
        "\n",
        "from sklearn.model_selection import cross_val_score\n",
        "from sklearn.model_selection import RepeatedStratifiedKFold\n",
        "\n",
        "from sklearn.datasets import make_classification\n",
        "\n",
        "from sklearn.model_selection import train_test_split\n",
        "from sklearn.linear_model import LogisticRegression\n",
        "from sklearn.metrics import confusion_matrix\n",
        "from sklearn.metrics import recall_score         \n",
        "\n",
        "from sklearn.metrics import classification_report, make_scorer\n",
        "from imblearn.metrics import geometric_mean_score, classification_report_imbalanced\n",
        "from sklearn.model_selection import  cross_validate,  RepeatedStratifiedKFold \n",
        "\n",
        "from sklearn.model_selection import learning_curve\n",
        "from sklearn.model_selection import validation_curve\n",
        "\n",
        "from sklearn.model_selection import GridSearchCV\n",
        "\n",
        "# To create our Decision Tree Graph:\n",
        "from sklearn import tree\n",
        "import pydotplus \n",
        "from IPython.display import Image"
      ],
      "metadata": {
        "id": "exXsscs-Dh-2"
      },
      "execution_count": null,
      "outputs": []
    },
    {
      "cell_type": "markdown",
      "metadata": {
        "id": "X25brD-gQdZM"
      },
      "source": [
        "#**Ejercicio-1.** "
      ]
    },
    {
      "cell_type": "markdown",
      "source": [
        "1.   Carga los datos y sustituye los nombres de las columnas del alemán al inglés de acuerdo a como se indica en la página de la UCI.  \n",
        "\n"
      ],
      "metadata": {
        "id": "Dz8W062RznkI"
      }
    },
    {
      "cell_type": "markdown",
      "source": [
        "Convertimos la base de datos a una dataframe"
      ],
      "metadata": {
        "id": "Kn2bSBd5EX89"
      }
    },
    {
      "cell_type": "code",
      "source": [
        "df = pd.read_csv('https://github.com/a01137646/MNA_Public/blob/main/Inteligencia%20artificial%20y%20aprendizaje%20autom%C3%A1tico/SouthGermanCredit.asc?raw=true',delimiter =\" \")"
      ],
      "metadata": {
        "id": "3nU2GuWYCy6C"
      },
      "execution_count": 42,
      "outputs": []
    },
    {
      "cell_type": "markdown",
      "source": [
        "Cambimos los nombres de las columnas a nombres en ingles"
      ],
      "metadata": {
        "id": "wGVZu82FEctc"
      }
    },
    {
      "cell_type": "code",
      "source": [
        "df.rename(columns = {'laufkont':'status', 'laufzeit':'duration', 'moral':'credit_history', 'verw':'purpose', 'hoehe':'amount', 'sparkont':'savings', 'beszeit':'employment_duration', \n",
        "                     'rate':'installment_rate', 'famges':'personal_status_sex', 'buerge':'other_debtors', 'wohnzeit':'present_residence', 'verm':'property', 'alter':'age', \n",
        "                     'weitkred':'other_installment_plans', 'wohn':'housing', 'bishkred':'number_credits', 'beruf':'job', 'pers':'people_liable', 'telef':'telephone', 'gastarb':'foreign_worker',\n",
        "                     'kredit':'credit_risk'}, inplace = True)\n",
        "df.head()"
      ],
      "metadata": {
        "id": "0ulkqXVGCy97",
        "colab": {
          "base_uri": "https://localhost:8080/",
          "height": 299
        },
        "outputId": "79e4583c-f65b-4d02-ed29-a1c02282df83"
      },
      "execution_count": 43,
      "outputs": [
        {
          "output_type": "execute_result",
          "data": {
            "text/plain": [
              "   status  duration  credit_history  purpose  amount  savings  \\\n",
              "0       1        18               4        2    1049        1   \n",
              "1       1         9               4        0    2799        1   \n",
              "2       2        12               2        9     841        2   \n",
              "3       1        12               4        0    2122        1   \n",
              "4       1        12               4        0    2171        1   \n",
              "\n",
              "   employment_duration  installment_rate  personal_status_sex  other_debtors  \\\n",
              "0                    2                 4                    2              1   \n",
              "1                    3                 2                    3              1   \n",
              "2                    4                 2                    2              1   \n",
              "3                    3                 3                    3              1   \n",
              "4                    3                 4                    3              1   \n",
              "\n",
              "   ...  property  age  other_installment_plans  housing  number_credits  job  \\\n",
              "0  ...         2   21                        3        1               1    3   \n",
              "1  ...         1   36                        3        1               2    3   \n",
              "2  ...         1   23                        3        1               1    2   \n",
              "3  ...         1   39                        3        1               2    2   \n",
              "4  ...         2   38                        1        2               2    2   \n",
              "\n",
              "   people_liable  telephone  foreign_worker  credit_risk  \n",
              "0              2          1               2            1  \n",
              "1              1          1               2            1  \n",
              "2              2          1               2            1  \n",
              "3              1          1               1            1  \n",
              "4              2          1               1            1  \n",
              "\n",
              "[5 rows x 21 columns]"
            ],
            "text/html": [
              "\n",
              "  <div id=\"df-0e76ed95-7eef-4d30-9692-58e67ef79f40\">\n",
              "    <div class=\"colab-df-container\">\n",
              "      <div>\n",
              "<style scoped>\n",
              "    .dataframe tbody tr th:only-of-type {\n",
              "        vertical-align: middle;\n",
              "    }\n",
              "\n",
              "    .dataframe tbody tr th {\n",
              "        vertical-align: top;\n",
              "    }\n",
              "\n",
              "    .dataframe thead th {\n",
              "        text-align: right;\n",
              "    }\n",
              "</style>\n",
              "<table border=\"1\" class=\"dataframe\">\n",
              "  <thead>\n",
              "    <tr style=\"text-align: right;\">\n",
              "      <th></th>\n",
              "      <th>status</th>\n",
              "      <th>duration</th>\n",
              "      <th>credit_history</th>\n",
              "      <th>purpose</th>\n",
              "      <th>amount</th>\n",
              "      <th>savings</th>\n",
              "      <th>employment_duration</th>\n",
              "      <th>installment_rate</th>\n",
              "      <th>personal_status_sex</th>\n",
              "      <th>other_debtors</th>\n",
              "      <th>...</th>\n",
              "      <th>property</th>\n",
              "      <th>age</th>\n",
              "      <th>other_installment_plans</th>\n",
              "      <th>housing</th>\n",
              "      <th>number_credits</th>\n",
              "      <th>job</th>\n",
              "      <th>people_liable</th>\n",
              "      <th>telephone</th>\n",
              "      <th>foreign_worker</th>\n",
              "      <th>credit_risk</th>\n",
              "    </tr>\n",
              "  </thead>\n",
              "  <tbody>\n",
              "    <tr>\n",
              "      <th>0</th>\n",
              "      <td>1</td>\n",
              "      <td>18</td>\n",
              "      <td>4</td>\n",
              "      <td>2</td>\n",
              "      <td>1049</td>\n",
              "      <td>1</td>\n",
              "      <td>2</td>\n",
              "      <td>4</td>\n",
              "      <td>2</td>\n",
              "      <td>1</td>\n",
              "      <td>...</td>\n",
              "      <td>2</td>\n",
              "      <td>21</td>\n",
              "      <td>3</td>\n",
              "      <td>1</td>\n",
              "      <td>1</td>\n",
              "      <td>3</td>\n",
              "      <td>2</td>\n",
              "      <td>1</td>\n",
              "      <td>2</td>\n",
              "      <td>1</td>\n",
              "    </tr>\n",
              "    <tr>\n",
              "      <th>1</th>\n",
              "      <td>1</td>\n",
              "      <td>9</td>\n",
              "      <td>4</td>\n",
              "      <td>0</td>\n",
              "      <td>2799</td>\n",
              "      <td>1</td>\n",
              "      <td>3</td>\n",
              "      <td>2</td>\n",
              "      <td>3</td>\n",
              "      <td>1</td>\n",
              "      <td>...</td>\n",
              "      <td>1</td>\n",
              "      <td>36</td>\n",
              "      <td>3</td>\n",
              "      <td>1</td>\n",
              "      <td>2</td>\n",
              "      <td>3</td>\n",
              "      <td>1</td>\n",
              "      <td>1</td>\n",
              "      <td>2</td>\n",
              "      <td>1</td>\n",
              "    </tr>\n",
              "    <tr>\n",
              "      <th>2</th>\n",
              "      <td>2</td>\n",
              "      <td>12</td>\n",
              "      <td>2</td>\n",
              "      <td>9</td>\n",
              "      <td>841</td>\n",
              "      <td>2</td>\n",
              "      <td>4</td>\n",
              "      <td>2</td>\n",
              "      <td>2</td>\n",
              "      <td>1</td>\n",
              "      <td>...</td>\n",
              "      <td>1</td>\n",
              "      <td>23</td>\n",
              "      <td>3</td>\n",
              "      <td>1</td>\n",
              "      <td>1</td>\n",
              "      <td>2</td>\n",
              "      <td>2</td>\n",
              "      <td>1</td>\n",
              "      <td>2</td>\n",
              "      <td>1</td>\n",
              "    </tr>\n",
              "    <tr>\n",
              "      <th>3</th>\n",
              "      <td>1</td>\n",
              "      <td>12</td>\n",
              "      <td>4</td>\n",
              "      <td>0</td>\n",
              "      <td>2122</td>\n",
              "      <td>1</td>\n",
              "      <td>3</td>\n",
              "      <td>3</td>\n",
              "      <td>3</td>\n",
              "      <td>1</td>\n",
              "      <td>...</td>\n",
              "      <td>1</td>\n",
              "      <td>39</td>\n",
              "      <td>3</td>\n",
              "      <td>1</td>\n",
              "      <td>2</td>\n",
              "      <td>2</td>\n",
              "      <td>1</td>\n",
              "      <td>1</td>\n",
              "      <td>1</td>\n",
              "      <td>1</td>\n",
              "    </tr>\n",
              "    <tr>\n",
              "      <th>4</th>\n",
              "      <td>1</td>\n",
              "      <td>12</td>\n",
              "      <td>4</td>\n",
              "      <td>0</td>\n",
              "      <td>2171</td>\n",
              "      <td>1</td>\n",
              "      <td>3</td>\n",
              "      <td>4</td>\n",
              "      <td>3</td>\n",
              "      <td>1</td>\n",
              "      <td>...</td>\n",
              "      <td>2</td>\n",
              "      <td>38</td>\n",
              "      <td>1</td>\n",
              "      <td>2</td>\n",
              "      <td>2</td>\n",
              "      <td>2</td>\n",
              "      <td>2</td>\n",
              "      <td>1</td>\n",
              "      <td>1</td>\n",
              "      <td>1</td>\n",
              "    </tr>\n",
              "  </tbody>\n",
              "</table>\n",
              "<p>5 rows × 21 columns</p>\n",
              "</div>\n",
              "      <button class=\"colab-df-convert\" onclick=\"convertToInteractive('df-0e76ed95-7eef-4d30-9692-58e67ef79f40')\"\n",
              "              title=\"Convert this dataframe to an interactive table.\"\n",
              "              style=\"display:none;\">\n",
              "        \n",
              "  <svg xmlns=\"http://www.w3.org/2000/svg\" height=\"24px\"viewBox=\"0 0 24 24\"\n",
              "       width=\"24px\">\n",
              "    <path d=\"M0 0h24v24H0V0z\" fill=\"none\"/>\n",
              "    <path d=\"M18.56 5.44l.94 2.06.94-2.06 2.06-.94-2.06-.94-.94-2.06-.94 2.06-2.06.94zm-11 1L8.5 8.5l.94-2.06 2.06-.94-2.06-.94L8.5 2.5l-.94 2.06-2.06.94zm10 10l.94 2.06.94-2.06 2.06-.94-2.06-.94-.94-2.06-.94 2.06-2.06.94z\"/><path d=\"M17.41 7.96l-1.37-1.37c-.4-.4-.92-.59-1.43-.59-.52 0-1.04.2-1.43.59L10.3 9.45l-7.72 7.72c-.78.78-.78 2.05 0 2.83L4 21.41c.39.39.9.59 1.41.59.51 0 1.02-.2 1.41-.59l7.78-7.78 2.81-2.81c.8-.78.8-2.07 0-2.86zM5.41 20L4 18.59l7.72-7.72 1.47 1.35L5.41 20z\"/>\n",
              "  </svg>\n",
              "      </button>\n",
              "      \n",
              "  <style>\n",
              "    .colab-df-container {\n",
              "      display:flex;\n",
              "      flex-wrap:wrap;\n",
              "      gap: 12px;\n",
              "    }\n",
              "\n",
              "    .colab-df-convert {\n",
              "      background-color: #E8F0FE;\n",
              "      border: none;\n",
              "      border-radius: 50%;\n",
              "      cursor: pointer;\n",
              "      display: none;\n",
              "      fill: #1967D2;\n",
              "      height: 32px;\n",
              "      padding: 0 0 0 0;\n",
              "      width: 32px;\n",
              "    }\n",
              "\n",
              "    .colab-df-convert:hover {\n",
              "      background-color: #E2EBFA;\n",
              "      box-shadow: 0px 1px 2px rgba(60, 64, 67, 0.3), 0px 1px 3px 1px rgba(60, 64, 67, 0.15);\n",
              "      fill: #174EA6;\n",
              "    }\n",
              "\n",
              "    [theme=dark] .colab-df-convert {\n",
              "      background-color: #3B4455;\n",
              "      fill: #D2E3FC;\n",
              "    }\n",
              "\n",
              "    [theme=dark] .colab-df-convert:hover {\n",
              "      background-color: #434B5C;\n",
              "      box-shadow: 0px 1px 3px 1px rgba(0, 0, 0, 0.15);\n",
              "      filter: drop-shadow(0px 1px 2px rgba(0, 0, 0, 0.3));\n",
              "      fill: #FFFFFF;\n",
              "    }\n",
              "  </style>\n",
              "\n",
              "      <script>\n",
              "        const buttonEl =\n",
              "          document.querySelector('#df-0e76ed95-7eef-4d30-9692-58e67ef79f40 button.colab-df-convert');\n",
              "        buttonEl.style.display =\n",
              "          google.colab.kernel.accessAllowed ? 'block' : 'none';\n",
              "\n",
              "        async function convertToInteractive(key) {\n",
              "          const element = document.querySelector('#df-0e76ed95-7eef-4d30-9692-58e67ef79f40');\n",
              "          const dataTable =\n",
              "            await google.colab.kernel.invokeFunction('convertToInteractive',\n",
              "                                                     [key], {});\n",
              "          if (!dataTable) return;\n",
              "\n",
              "          const docLinkHtml = 'Like what you see? Visit the ' +\n",
              "            '<a target=\"_blank\" href=https://colab.research.google.com/notebooks/data_table.ipynb>data table notebook</a>'\n",
              "            + ' to learn more about interactive tables.';\n",
              "          element.innerHTML = '';\n",
              "          dataTable['output_type'] = 'display_data';\n",
              "          await google.colab.output.renderOutput(dataTable, element);\n",
              "          const docLink = document.createElement('div');\n",
              "          docLink.innerHTML = docLinkHtml;\n",
              "          element.appendChild(docLink);\n",
              "        }\n",
              "      </script>\n",
              "    </div>\n",
              "  </div>\n",
              "  "
            ]
          },
          "metadata": {},
          "execution_count": 43
        }
      ]
    },
    {
      "cell_type": "markdown",
      "source": [
        "Vemos que no existan valores nulos o de tipo object"
      ],
      "metadata": {
        "id": "wD9Z52QYElGT"
      }
    },
    {
      "cell_type": "code",
      "source": [
        "df.info()"
      ],
      "metadata": {
        "colab": {
          "base_uri": "https://localhost:8080/"
        },
        "id": "h1sQanyq250P",
        "outputId": "d52db21f-8fd3-4957-9f89-68e8fe48ab58"
      },
      "execution_count": 44,
      "outputs": [
        {
          "output_type": "stream",
          "name": "stdout",
          "text": [
            "<class 'pandas.core.frame.DataFrame'>\n",
            "RangeIndex: 1000 entries, 0 to 999\n",
            "Data columns (total 21 columns):\n",
            " #   Column                   Non-Null Count  Dtype\n",
            "---  ------                   --------------  -----\n",
            " 0   status                   1000 non-null   int64\n",
            " 1   duration                 1000 non-null   int64\n",
            " 2   credit_history           1000 non-null   int64\n",
            " 3   purpose                  1000 non-null   int64\n",
            " 4   amount                   1000 non-null   int64\n",
            " 5   savings                  1000 non-null   int64\n",
            " 6   employment_duration      1000 non-null   int64\n",
            " 7   installment_rate         1000 non-null   int64\n",
            " 8   personal_status_sex      1000 non-null   int64\n",
            " 9   other_debtors            1000 non-null   int64\n",
            " 10  present_residence        1000 non-null   int64\n",
            " 11  property                 1000 non-null   int64\n",
            " 12  age                      1000 non-null   int64\n",
            " 13  other_installment_plans  1000 non-null   int64\n",
            " 14  housing                  1000 non-null   int64\n",
            " 15  number_credits           1000 non-null   int64\n",
            " 16  job                      1000 non-null   int64\n",
            " 17  people_liable            1000 non-null   int64\n",
            " 18  telephone                1000 non-null   int64\n",
            " 19  foreign_worker           1000 non-null   int64\n",
            " 20  credit_risk              1000 non-null   int64\n",
            "dtypes: int64(21)\n",
            "memory usage: 164.2 KB\n"
          ]
        }
      ]
    },
    {
      "cell_type": "markdown",
      "source": [
        "#**Ejercicio-2.**"
      ],
      "metadata": {
        "id": "xZhr2hkECzVv"
      }
    },
    {
      "cell_type": "markdown",
      "source": [
        "2. Realiza una partición de los datos en el conjunto de entrenamiento del 85% y el de prueba de 15%. Los modelos se estarán entrenando con el método de validación cruzada, así que no es necesario en este paso generar el conjunto de validación. Define como la variable X a todas las \n",
        "variables de entrada y a la variable Y como la variable de salida."
      ],
      "metadata": {
        "id": "XdWB5abBzvTX"
      }
    },
    {
      "cell_type": "markdown",
      "source": [
        "Separamos los valores X de los valores Y"
      ],
      "metadata": {
        "id": "zcQ42xTwEygr"
      }
    },
    {
      "cell_type": "code",
      "source": [
        "Y = df['credit_risk']\n",
        "X = df.drop('credit_risk',axis=1)"
      ],
      "metadata": {
        "id": "kGfAoOPkC1PP"
      },
      "execution_count": 45,
      "outputs": []
    },
    {
      "cell_type": "markdown",
      "source": [
        "Hacemos una particion de los valores, 85% para entrenamiento, y 15% para pruebas"
      ],
      "metadata": {
        "id": "MgGzMUJfE019"
      }
    },
    {
      "cell_type": "code",
      "source": [
        "Xtv, Xtest, ytv, ytest = train_test_split(X, Y, train_size=0.85, test_size=0.15, random_state=1)  \n",
        "print(Xtv.shape, ': dimensión de datos de entrada de entrenamiento y validación')\n",
        "print(Xtest.shape, ': dimensión de datos de entrada de prueba')  \n",
        "print(ytv.shape, ': dimensión de variable de salida para entrenamiento y validación')\n",
        "print(ytest.shape, ': dimensión de variable de salida para prueba')"
      ],
      "metadata": {
        "id": "GOydw5OGC1MJ",
        "colab": {
          "base_uri": "https://localhost:8080/"
        },
        "outputId": "88b5908c-d045-477d-892c-798a4986328c"
      },
      "execution_count": 46,
      "outputs": [
        {
          "output_type": "stream",
          "name": "stdout",
          "text": [
            "(850, 20) : dimensión de datos de entrada de entrenamiento y validación\n",
            "(150, 20) : dimensión de datos de entrada de prueba\n",
            "(850,) : dimensión de variable de salida para entrenamiento y validación\n",
            "(150,) : dimensión de variable de salida para prueba\n"
          ]
        }
      ]
    },
    {
      "cell_type": "markdown",
      "source": [
        "#**Ejercicio-3.**"
      ],
      "metadata": {
        "id": "NCunuooTC2W3"
      }
    },
    {
      "cell_type": "markdown",
      "source": [
        "3. Como una primera aproximación (baseline) realizarás las siguientes transformaciones mínimas para generar los primeros modelos. En la misma página de la UCI se indica el tipo de variable de  cada uno de los factores. Definen cuatro tipo de variables: categórica (categorical), ordinal  (discretized quantitative), numérica (quantitative) y binaria (binary). Con base a dicha  información realiza un Pipeline que incluya al menos las siguientes transformaciones:\n",
        "\n",
        "\n",
        "* Imputación a todas las variables de entrada, diferenciando entre el tipo de cada variable (decide y justifica que tipo de imputación realizas en cada caso).\n",
        "\n",
        "* Realiza un análisis de las variables numéricas (quantitative) de entrada y aplica una transformación que escale a todas ellas en un rango equiparable. \n",
        "\n",
        "* Aplica la transformación One-Hot encoding a las variables de entrada de tipo categórico y binaria. En particular, justifica por qué una variable binaria requeriría que se le aplique  la transformación one-hot encoding. Por el momento dejar las variables ordinales sin transformar. "
      ],
      "metadata": {
        "id": "gpMdSS7Vz5cP"
      }
    },
    {
      "cell_type": "markdown",
      "source": [
        "Creamos listas con los nombres de las columnas dependiendo de su tipo de datos"
      ],
      "metadata": {
        "id": "qyX2WkVeE_o0"
      }
    },
    {
      "cell_type": "code",
      "source": [
        "#valores numericos\n",
        "num_nombres = ['duration','amount','age']\n",
        "#valores categoricos\n",
        "cat_nombres = ['status','credit_history','purpose','savings','personal_status_sex','other_debtors','other_installment_plans','housing']\n",
        "#valores ordinales\n",
        "ord_nombres = ['employment_duration','installment_rate','present_residence','property','number_credits','job']\n",
        "#valores binarios\n",
        "bin_nombres = ['people_liable','telephone','foreign_worker']"
      ],
      "metadata": {
        "id": "YXlcSWA-C4Dj"
      },
      "execution_count": 47,
      "outputs": []
    },
    {
      "cell_type": "markdown",
      "source": [
        "Observamos si existen valores nulos que necesiten imputacion"
      ],
      "metadata": {
        "id": "exQByJbyFP-E"
      }
    },
    {
      "cell_type": "code",
      "source": [
        "df.isnull().values.any()"
      ],
      "metadata": {
        "colab": {
          "base_uri": "https://localhost:8080/"
        },
        "id": "UvTuSQf0FTEs",
        "outputId": "a89a3689-8159-4826-b515-5c72b5ca7eba"
      },
      "execution_count": 48,
      "outputs": [
        {
          "output_type": "execute_result",
          "data": {
            "text/plain": [
              "False"
            ]
          },
          "metadata": {},
          "execution_count": 48
        }
      ]
    },
    {
      "cell_type": "markdown",
      "source": [
        "Aunque no existen valores nulos, por fines del ejercicio, los trabajaremos como si existieran.\n",
        "\n",
        "Utilizamos el metodo de imputar por la mediana en los valores numericos, asi como el metodo de imputar la moda para los valores categoricos.\n",
        "\n",
        "`**PENDIENTE EXPLICAR POR QUE SE USA MEDIANA, MODA, Y ONE-HOT ENCODER PARA VALORES BINARIOS**`\n",
        "\n",
        "De igual manera, para los valores numericos, se utiliza el metodo de MinMaxScaler para transformarlos a un rango entre 0 y 1. Mientras que para los valores categoricos y binarios se utiliza one-hot encoder, lo cual los transforma en los categoricos a variables dummies con valores de 0 y 1, y las binarias de igual manera, a valores de 0 y 1. "
      ],
      "metadata": {
        "id": "sPf7z0PZFT9b"
      }
    },
    {
      "cell_type": "code",
      "source": [
        "# Transformaciones a factores numéricos de entrada:\n",
        "num_pipeline = Pipeline(steps = [('impMediana', SimpleImputer(strategy='median')),\n",
        "                                 ('escalaNum', MinMaxScaler())]) \n",
        "num_pipeline_nombres = num_nombres\n",
        "\n",
        "# Transformaciones a factores categóricos de entrada:\n",
        "catImp_pipeline = Pipeline(steps = [('impModa', SimpleImputer(strategy='most_frequent'))])  \n",
        "catImp_pipeline_nombres = cat_nombres\n",
        "\n",
        "# Transformaciones one-hot-encoder en algunas de las categóricas:\n",
        "catOHE_pipeline = Pipeline(steps = [('OneHotE', OneHotEncoder())])\n",
        "catOHE_pipeline_nombres = cat_nombres + bin_nombres\n",
        "\n",
        "# Conjuntamos las transformaciones que se estarán aplicando a los datos de entrada:\n",
        "columnasTransformer = ColumnTransformer(transformers = [('numpipe', num_pipeline, num_pipeline_nombres),\n",
        "                                                        ('catimp', catImp_pipeline, catImp_pipeline_nombres),\n",
        "                                                        ('catohe', catOHE_pipeline, catOHE_pipeline_nombres)],\n",
        "                                        remainder='passthrough')"
      ],
      "metadata": {
        "id": "BKI80-YdC4HN"
      },
      "execution_count": 49,
      "outputs": []
    },
    {
      "cell_type": "markdown",
      "source": [
        "#**Ejercicio-4.**"
      ],
      "metadata": {
        "id": "chqk9jIDC5Pq"
      }
    },
    {
      "cell_type": "markdown",
      "source": [
        "4. Llevarás un entrenamiento usando validación cruzada entre los siguientes tres modelos de aprendizaje automático: Regresión Logística, Árbol de Decisión y Bosque Aleatorio. Deberás llevar a cabo el entrenamiento de los tres de manera conjunta usando un ciclo FOR. Recuerda aplicar las transformaciones que definiste en tu Pipeline. El entrenamiento debe ser con las siguientes características: "
      ],
      "metadata": {
        "id": "y9AA6Ulw0c84"
      }
    },
    {
      "cell_type": "markdown",
      "source": [
        "* Usa los parámetros predeterminados de cada modelo."
      ],
      "metadata": {
        "id": "EP5bLdtn0lNO"
      }
    },
    {
      "cell_type": "code",
      "source": [
        "def get_models():\n",
        "  modelos = list()\n",
        "  nombres = list()\n",
        "\n",
        "  # LR - Regresión Logística:\n",
        "  #el parametro default de solver es lbfgs, pero llega al numero maximo de iteraciones\n",
        "  modelos.append(LogisticRegression(solver='liblinear'))\n",
        "  nombres.append('LR')\n",
        "\n",
        "  # DT - Árbol de Decisión:\n",
        "  modelos.append(DecisionTreeClassifier())\n",
        "  nombres.append('DT')\n",
        "  \n",
        "  # RF - Bosque Aleatorio:\n",
        "  modelos.append(RandomForestClassifier())\n",
        "  nombres.append('RF')\n",
        "\n",
        "  return modelos, nombres"
      ],
      "metadata": {
        "id": "RBVSFwK4C6g9"
      },
      "execution_count": 50,
      "outputs": []
    },
    {
      "cell_type": "markdown",
      "source": [
        "* En cada iteración deben calcularse todas las siguientes métricas: accuracy, precision, recall, f1-score y Gmean. Todas estas métricas deben ser funciones que tú mismo debes definir (Es decir, no usar las funciones de dichas métricas que te proporciona scikit-learn. Sin embargo, sí puedes usar la información regresada por el método confusion_matrix() de scikit-learn para definir las métricas)."
      ],
      "metadata": {
        "id": "TRYFLufE0oWO"
      }
    },
    {
      "cell_type": "code",
      "source": [
        "def mi_accuracy(yreal, ypred):\n",
        "  tn, fp, fn, tp = confusion_matrix(yreal, ypred).ravel() \n",
        "  return (tp + tn)/(tp + tn + fp + fn)\n",
        "\n",
        "def mi_precision(yreal, ypred):\n",
        "  tn, fp, fn, tp = confusion_matrix(yreal, ypred).ravel() \n",
        "  return tp/(tp+fp)\n",
        "\n",
        "def mi_recall(yreal, ypred):\n",
        "  tn, fp, fn, tp = confusion_matrix(yreal, ypred).ravel() \n",
        "  return tp/(tp+fn)\n",
        "\n",
        "def mi_f1score(yreal, ypred):\n",
        "  tn, fp, fn, tp = confusion_matrix(yreal, ypred).ravel() \n",
        "  return tp/(tp + (1/2)*(fp + fn))\n",
        "\n",
        "def mi_gmean(yreal, ypred):\n",
        "  tn, fp, fn, tp = confusion_matrix(yreal, ypred).ravel()\n",
        "  recall = tp/(tp+fn)\n",
        "  specificity = tn/(tn+fp)\n",
        "  return np.sqrt(recall*specificity)"
      ],
      "metadata": {
        "id": "Gi0V-6nsOuLb"
      },
      "execution_count": 51,
      "outputs": []
    },
    {
      "cell_type": "markdown",
      "source": [
        "* Usar validación cruzada estratificada con 5 particiones y con 3 repeticiones. \n",
        "* Imprimir el valor de todas estas métricas, tanto para los datos de entrenamiento, como para los de validación. Así como los diagramas de caja y bigotes de los tres modelos con la métrica “recall”. ¿Alguno de los modelos está subentrenado o sobreentrenado? Justifica tu respuesta. "
      ],
      "metadata": {
        "id": "LVCzpWWy0vPf"
      }
    },
    {
      "cell_type": "code",
      "source": [
        "modelos, nombres = get_models()  # cargamos los modelos a comparar\n",
        "resultados = list()   \n",
        "\n",
        "cv = RepeatedStratifiedKFold(n_splits=5, n_repeats=3, random_state=0)\n",
        "\n",
        "for i in range(len(modelos)):\n",
        "\n",
        "  pipeline = Pipeline(steps=[('ct',columnasTransformer),('m',modelos[i])])\n",
        "\n",
        "  mismetricas = {'accuracy':make_scorer(mi_accuracy), 'precision':make_scorer(mi_precision), 'recall':make_scorer(mi_recall), 'f1score':make_scorer(mi_f1score), 'gmean':make_scorer(mi_gmean)}\n",
        "\n",
        "  resultadosOU = cross_validate(pipeline, Xtv, ytv, scoring=mismetricas, cv=cv)\n",
        "  resultados.append(resultadosOU)\n",
        "\n",
        "  print('%s:\\nmean Accuracy: %.3f (%.4f)\\nmean Precision: %.3f (%.4f)\\nmean Recall: %.3f (%.4f)\\nmean f1score: %.3f (%.4f)\\nGmean: %.3f (%.4f)\\n' % (nombres[i],\n",
        "                                                                          np.mean(resultadosOU['test_accuracy']),\n",
        "                                                                          np.std(resultadosOU['test_accuracy']), \n",
        "                                                                          np.mean(resultadosOU['test_precision']),\n",
        "                                                                          np.std(resultadosOU['test_precision']),\n",
        "                                                                          np.mean(resultadosOU['test_recall']),\n",
        "                                                                          np.std(resultadosOU['test_recall']),\n",
        "                                                                          np.mean(resultadosOU['test_f1score']),\n",
        "                                                                          np.std(resultadosOU['test_f1score']),\n",
        "                                                                          np.mean(resultadosOU['test_gmean']),\n",
        "                                                                          np.std(resultadosOU['test_gmean']),\n",
        "                                                                          ))"
      ],
      "metadata": {
        "id": "7KXnlNzAC69Y",
        "colab": {
          "base_uri": "https://localhost:8080/"
        },
        "outputId": "4aa62e23-6149-4525-801d-efd9ec7570d7"
      },
      "execution_count": 52,
      "outputs": [
        {
          "output_type": "stream",
          "name": "stdout",
          "text": [
            "LR:\n",
            "mean Accuracy: 0.759 (0.0268)\n",
            "mean Precision: 0.800 (0.0222)\n",
            "mean Recall: 0.873 (0.0292)\n",
            "mean f1score: 0.835 (0.0186)\n",
            "Gmean: 0.657 (0.0466)\n",
            "\n",
            "DT:\n",
            "mean Accuracy: 0.688 (0.0391)\n",
            "mean Precision: 0.784 (0.0305)\n",
            "mean Recall: 0.762 (0.0467)\n",
            "mean f1score: 0.772 (0.0311)\n",
            "Gmean: 0.625 (0.0540)\n",
            "\n",
            "RF:\n",
            "mean Accuracy: 0.755 (0.0214)\n",
            "mean Precision: 0.793 (0.0156)\n",
            "mean Recall: 0.877 (0.0259)\n",
            "mean f1score: 0.833 (0.0153)\n",
            "Gmean: 0.644 (0.0335)\n",
            "\n"
          ]
        }
      ]
    },
    {
      "cell_type": "code",
      "source": [
        "sns.set(rc={'figure.figsize':(8,4)})\n",
        "\n",
        "bprecall = list()\n",
        "for i in range(len(resultados)):\n",
        "  rr = resultados[i]['test_recall']\n",
        "  bprecall.append(rr)\n",
        "\n",
        "plt.boxplot(bprecall, labels=nombres, showmeans=True)\n",
        "\n",
        "plt.show()"
      ],
      "metadata": {
        "colab": {
          "base_uri": "https://localhost:8080/",
          "height": 268
        },
        "id": "nNo6GxX6zL44",
        "outputId": "6a65ebd9-59be-47b0-fee9-704cc1c5f2f3"
      },
      "execution_count": 53,
      "outputs": [
        {
          "output_type": "display_data",
          "data": {
            "text/plain": [
              "<Figure size 576x288 with 1 Axes>"
            ],
            "image/png": "[encoded data removed]"
          },
          "metadata": {}
        }
      ]
    },
    {
      "cell_type": "markdown",
      "source": [
        "**PENDIENTE EXPLICAR SI ALGUN MODELO ESTA SUBENTRENADO O SOBREENTRANDO**"
      ],
      "metadata": {
        "id": "cnaFrRw905xW"
      }
    },
    {
      "cell_type": "markdown",
      "source": [
        "* En particular obtengamos algunas de las llamadas curvas de aprendizaje para algunos de estos casos. En dada gráfico debes incluir tus comentarios sobre el modelo generado: \n",
        "\n",
        "I. Obtener las curvas de aprendizaje (learning_curve) en la cual se va incrementando el tamaño de la muestra para el modelo de regresión Logística con su hiperparámetros predeterminados. Utilizar al menos 20 puntos en la partición de los conjuntos de entrenamiento y la métrica “f1-score”, como evaluación del \n",
        "desempeño de dicha función “learning_curve()”.  "
      ],
      "metadata": {
        "id": "aKlYf_Js1iSP"
      }
    },
    {
      "cell_type": "code",
      "source": [
        "#obtenemos el modelo y los parametros de cross validation\n",
        "modeloLC = modelos[0]\n",
        "cvLC = cv\n",
        "#definimos los al menos 20 puntos de particion\n",
        "delta_train_sz = np.linspace(0.1, 1.0, 20)\n",
        "\n",
        "#obtenemos los datos de X transformados\n",
        "Xx = columnasTransformer.fit_transform(Xtv)\n",
        "\n",
        "#obtenemos la learning curve\n",
        "train_sizes, train_scores, valid_scores = learning_curve(estimator=modeloLC, \n",
        "                                                        X=Xx, \n",
        "                                                        y=np.ravel(ytv),\n",
        "                                                        cv=cvLC, \n",
        "                                                        train_sizes=delta_train_sz,\n",
        "                                                        scoring=make_scorer(mi_f1score))\n",
        "\n",
        "# Obtengamos la gráfica de las curvas de aprendizaje \n",
        "# cuando se incrementa el tamaño de la muestra:\n",
        "\n",
        "train_mean = np.mean(train_scores, axis=1)\n",
        "train_std = np.std(train_scores, axis=1)\n",
        "valid_mean = np.mean(valid_scores, axis=1)\n",
        "valid_std = np.std(valid_scores, axis=1)\n",
        "\n",
        "plt.plot(train_sizes, train_mean, color='blue', marker='o', markersize=5, label='Training')\n",
        "\n",
        "plt.plot(train_sizes, valid_mean, color='red', marker='o', markersize=5, label='Validation')\n",
        "\n",
        "plt.title('Función learning_curve() para ' + str(nombres[0]))\n",
        "plt.xlabel('Tamaño del conjunto de entrenamiento')\n",
        "plt.ylabel('f1-score')\n",
        "plt.grid(b=True)\n",
        "plt.legend(loc='lower right')\n",
        "plt.show()"
      ],
      "metadata": {
        "colab": {
          "base_uri": "https://localhost:8080/",
          "height": 301
        },
        "id": "fP6cXqZV4NDf",
        "outputId": "9ff7c239-9d83-4e38-886d-ce19474d1a46"
      },
      "execution_count": 54,
      "outputs": [
        {
          "output_type": "display_data",
          "data": {
            "text/plain": [
              "<Figure size 576x288 with 1 Axes>"
            ],
            "image/png": "[encoded data removed]"
          },
          "metadata": {}
        }
      ]
    },
    {
      "cell_type": "markdown",
      "source": [
        "**PENDIENTE COMENTARIOS DEL MODELO**"
      ],
      "metadata": {
        "id": "ZwXdD6Vi8uz2"
      }
    },
    {
      "cell_type": "markdown",
      "source": [
        "II. Obtener las curvas de validación (validation_curve) en la cual se va incrementando la complejidad del hiperparámetro “max_depth” para el modelo de árbol de decisión con sus hiperparámetros predeterminados. Utilizar valores de máxima profundidad desde 1 hasta 20 y con la métrica “f1-score” para la evaluación del desempeño del modelo.    "
      ],
      "metadata": {
        "id": "VlpdO-Zy4Dhi"
      }
    },
    {
      "cell_type": "code",
      "source": [
        "#obtenemos el modelo y los parametros de cross validation\n",
        "modeloVC = modelos[1]\n",
        "cvVC = cv\n",
        "\n",
        "delta_max_depth = np.linspace(1, 20, 20)\n",
        "\n",
        "train_scores, valid_scores = validation_curve(modeloVC, \n",
        "                                              Xx, \n",
        "                                              np.ravel(ytv), \n",
        "                                              param_name=\"max_depth\", \n",
        "                                              param_range=delta_max_depth,\n",
        "                                              cv=cvVC,\n",
        "                                              scoring=make_scorer(mi_f1score))\n",
        "\n",
        "train_mean = np.mean(train_scores, axis=1)\n",
        "train_std = np.std(train_scores, axis=1)\n",
        "valid_mean = np.mean(valid_scores, axis=1)\n",
        "valid_std = np.std(valid_scores, axis=1)\n",
        "\n",
        "# Curva de entrenamiento con la métrica de exactitud (accuracy):\n",
        "plt.plot(delta_max_depth, train_mean, color='blue', marker='o', markersize=5, label='Training')\n",
        "\n",
        "# Curva de validación:\n",
        "plt.plot(delta_max_depth, valid_mean, color='red', marker='o', markersize=5, label='Validation')\n",
        "\n",
        "plt.title('Función validation_curve() para ' + str(nombres[1]))\n",
        "plt.xlabel('Valores del parámetro max_depth')\n",
        "plt.ylabel('f1-score')\n",
        "plt.grid(b=True)\n",
        "plt.legend(loc='lower right')\n",
        "plt.show()"
      ],
      "metadata": {
        "colab": {
          "base_uri": "https://localhost:8080/",
          "height": 301
        },
        "id": "zrbSeOM78q6-",
        "outputId": "b8da3d87-7f17-4e87-cf6f-f22ac11cb253"
      },
      "execution_count": 55,
      "outputs": [
        {
          "output_type": "display_data",
          "data": {
            "text/plain": [
              "<Figure size 576x288 with 1 Axes>"
            ],
            "image/png": "[encoded data removed]"
          },
          "metadata": {}
        }
      ]
    },
    {
      "cell_type": "markdown",
      "source": [
        "**PENDIENTE COMENTARIOS DEL MODELO**"
      ],
      "metadata": {
        "id": "5_dtmTjI_ofn"
      }
    },
    {
      "cell_type": "markdown",
      "source": [
        "III. Obtener las curvas de aprendizaje (learning_curve) en la cual se va incrementando el tamaño de la muestra para el modelo de regresión bosque aleatorio (random forest) con su hiperparámetros predeterminados. Utilizar al menos 20 puntos en la partición de los conjuntos de entrenamiento y la métrica “recall”, como evaluación del desempeño del modelo."
      ],
      "metadata": {
        "id": "3fXngXpq8rEY"
      }
    },
    {
      "cell_type": "code",
      "source": [
        "#obtenemos el modelo y los parametros de cross validation\n",
        "modeloLC = modelos[2]\n",
        "cvLC = cv\n",
        "#definimos los al menos 20 puntos de particion\n",
        "delta_train_sz = np.linspace(0.1, 1.0, 20)\n",
        "\n",
        "#obtenemos la learning curve\n",
        "train_sizes, train_scores, valid_scores = learning_curve(estimator=modeloLC, \n",
        "                                                        X=Xx, \n",
        "                                                        y=np.ravel(ytv),\n",
        "                                                        cv=cvLC, \n",
        "                                                        train_sizes=delta_train_sz,\n",
        "                                                        scoring=make_scorer(mi_recall))\n",
        "\n",
        "# Obtengamos la gráfica de las curvas de aprendizaje \n",
        "# cuando se incrementa el tamaño de la muestra:\n",
        "\n",
        "train_mean = np.mean(train_scores, axis=1)\n",
        "train_std = np.std(train_scores, axis=1)\n",
        "valid_mean = np.mean(valid_scores, axis=1)\n",
        "valid_std = np.std(valid_scores, axis=1)\n",
        "\n",
        "plt.plot(train_sizes, train_mean, color='blue', marker='o', markersize=5, label='Training')\n",
        "\n",
        "plt.plot(train_sizes, valid_mean, color='red', marker='o', markersize=5, label='Validation')\n",
        "\n",
        "plt.title('Función learning_curve() para ' + str(nombres[2]))\n",
        "plt.xlabel('Tamaño del conjunto de entrenamiento')\n",
        "plt.ylabel('recall')\n",
        "plt.grid(b=True)\n",
        "plt.legend(loc='lower right')\n",
        "plt.show()"
      ],
      "metadata": {
        "colab": {
          "base_uri": "https://localhost:8080/",
          "height": 301
        },
        "id": "rWZjMBcx_s49",
        "outputId": "98bdad1a-ec88-4596-cb7a-0cd6c0f109a3"
      },
      "execution_count": 56,
      "outputs": [
        {
          "output_type": "display_data",
          "data": {
            "text/plain": [
              "<Figure size 576x288 with 1 Axes>"
            ],
            "image/png": "[encoded data removed]"
          },
          "metadata": {}
        }
      ]
    },
    {
      "cell_type": "markdown",
      "source": [
        "**PENDIENTE COMENTARIOS DEL MODELO**"
      ],
      "metadata": {
        "id": "k-2BPla7BGuP"
      }
    },
    {
      "cell_type": "markdown",
      "source": [
        "#**Ejercicio-5.**"
      ],
      "metadata": {
        "id": "Rv7KFq-mC7PS"
      }
    },
    {
      "cell_type": "markdown",
      "source": [
        "5. Finalmente veamos la manera de mejorar los valores de los hiperparámetros de cada modelo, así como el problema del sobreentrenamiento de algunos de ellos. Para ello deberás usar el método GridSearchCV() de scikit-learn. Recuerda que este método hace una búsqueda de los mejores hiperparámetros de un modelo mediante el llamada formato de malla y aplicando validación cruzada. En cada caso puedes incrementar el máximo de iteraciones,”max_iter” para que tengas \n",
        "la convergencia adecuada para todas las combinaciones en cada modelo. Recuerda también aplicar las transformaciones que definiste en tu Pipeline. Para fines de este ejercicio se ha seleccionado para cada modelo una métrica diferente, que permita irte familiarizando con ellas. Puedes consultar su documentación de GridSearchCV en la siguiente liga:  \n",
        "[https://scikit-learn.org/stable/modules/generated/sklearn.model_selection.GridSearchCV.html  ](https://scikit-learn.org/stable/modules/generated/sklearn.model_selection.GridSearchCV.html)"
      ],
      "metadata": {
        "id": "W505OtRhBmSG"
      }
    },
    {
      "cell_type": "markdown",
      "source": [
        "a)  Para el modelo de regresión logística realizar el entrenamiento buscando sus mejores hiperparámetros con GridSearchCV(). Los hiperparámetros que debes incluir en su búsqueda deben ser al menos los siguientes: C, solver, class_weight y penalty. En este caso deberás usar la métrica (scoring) “f1-score”. Imprime la mejor combinación de parámetros obtenidos, así como el valor del mejor desempeño (score) obtenido con la métrica f1. ¿Cuál es la utilidad de la métrica “f1-score”? Incluye tus conclusiones. \n",
        "\n",
        "NOTA: Toma en cuenta que no todas las combinaciones de “solver” y “penalty” son \n",
        "posibles, para que lo tomes en cuenta al momento de realizar la búsqueda. Revisa la \n",
        "documentación. "
      ],
      "metadata": {
        "id": "gddAGNhdB5b_"
      }
    },
    {
      "cell_type": "code",
      "source": [
        "#obtenemos el modelo y los parametros\n",
        "modeloLR_iter = LogisticRegression(max_iter=10000, random_state=1)\n",
        "cvLR = cv\n",
        "\n",
        "#penalty none no toma en cuenta valores de C\n",
        "#penalty eslasticnet usa l1_ratio, y daba error sobre que asignaba (l1_ratio=None)\n",
        "dicc_grid = [\n",
        "            {'C':[0.0001,0.01,0.1,1.0,10.,100.], 'class_weight':['balanced', None],\n",
        "             'solver':['newton-cg','lbfgs','sag'],'penalty':['l2']},\n",
        "            {'C':[0.0001,0.01,0.1,1.0,10.,100.], 'class_weight':['balanced', None],\n",
        "             'solver':['liblinear','saga'],'penalty':['l1','l2']},    \n",
        "            {'class_weight':['balanced', None],'penalty':['none'],\n",
        "             'solver':['newton-cg','lbfgs','sag','saga']}            \n",
        "            ]\n",
        "             \n",
        "grid = GridSearchCV(estimator=modeloLR_iter, \n",
        "                    param_grid=dicc_grid, \n",
        "                    cv=cvLR, \n",
        "                    scoring=make_scorer(mi_f1score),\n",
        "                    error_score='raise')"
      ],
      "metadata": {
        "id": "jaDj3kawC9B6"
      },
      "execution_count": 57,
      "outputs": []
    },
    {
      "cell_type": "code",
      "source": [
        "# Transformamos los datos de entrada:\n",
        "Xx = columnasTransformer.fit_transform(Xtv)\n",
        "\n",
        "grid.fit(Xx, np.ravel(ytv))\n",
        "\n",
        "print('Mejor valor de f1-score obtenido con la mejor combinación:', grid.best_score_)\n",
        "print('Mejor combinación de valores encontrados de los hiperparámetros:', grid.best_params_)\n",
        "print('Métrica utilizada:', grid.scoring)"
      ],
      "metadata": {
        "id": "4tQxQROVC9Us",
        "colab": {
          "base_uri": "https://localhost:8080/"
        },
        "outputId": "9379a837-b892-40f7-febd-d7db3d1356f5"
      },
      "execution_count": 58,
      "outputs": [
        {
          "output_type": "stream",
          "name": "stdout",
          "text": [
            "Mejor valor de f1-score obtenido con la mejor combinación: 0.838383779152901\n",
            "Mejor combinación de valores encontrados de los hiperparámetros: {'C': 0.1, 'class_weight': None, 'penalty': 'l2', 'solver': 'liblinear'}\n",
            "Métrica utilizada: make_scorer(mi_f1score)\n"
          ]
        }
      ]
    },
    {
      "cell_type": "markdown",
      "source": [
        "b) Con los mejores valores de los hiperparámetros encontrados con la métrica “f1-score” para el modelo de regresión logística, obtener las curvas de aprendizaje (learning curve), incrementando el tamaño del conjunto de entrenamiento al menos 20 veces. Si lo crees adecuado, puedes hacer los ajustes que consideres adecuados para mejorar el resultado y evitar el sobreentrenamiento o el subentrenamiento. "
      ],
      "metadata": {
        "id": "-eUkq5MNUTp0"
      }
    },
    {
      "cell_type": "code",
      "source": [
        "#obtenemos el modelo y los parametros\n",
        "modeloLC_best = LogisticRegression(C=grid.best_params_['C'],class_weight=grid.best_params_['class_weight'],penalty=grid.best_params_['penalty'],solver=grid.best_params_['solver'],random_state=1)\n",
        "cvLC = cv\n",
        "#definimos los al menos 20 puntos de particion\n",
        "delta_train_sz = np.linspace(0.1, 1.0, 20)\n",
        "#obtenemos los datos de X transformados\n",
        "Xx = columnasTransformer.fit_transform(Xtv)\n",
        "\n",
        "#obtenemos la learning curve\n",
        "train_sizes, train_scores, valid_scores = learning_curve(estimator=modeloLC_best, \n",
        "                                                        X=Xx, \n",
        "                                                        y=np.ravel(ytv),\n",
        "                                                        cv=cvLC, \n",
        "                                                        train_sizes=delta_train_sz,\n",
        "                                                        scoring=make_scorer(mi_f1score))\n",
        "\n",
        "# Obtengamos la gráfica de las curvas de aprendizaje \n",
        "# cuando se incrementa el tamaño de la muestra:\n",
        "\n",
        "train_mean = np.mean(train_scores, axis=1)\n",
        "train_std = np.std(train_scores, axis=1)\n",
        "valid_mean = np.mean(valid_scores, axis=1)\n",
        "valid_std = np.std(valid_scores, axis=1)\n",
        "\n",
        "plt.plot(train_sizes, train_mean, color='blue', marker='o', markersize=5, label='Training')\n",
        "\n",
        "plt.plot(train_sizes, valid_mean, color='red', marker='o', markersize=5, label='Validation')\n",
        "\n",
        "plt.title('Función learning_curve() para mejores parametros de LR')\n",
        "plt.xlabel('Tamaño del conjunto de entrenamiento')\n",
        "plt.ylabel('f1-score')\n",
        "plt.grid(b=True)\n",
        "plt.legend(loc='lower right')\n",
        "plt.show()"
      ],
      "metadata": {
        "colab": {
          "base_uri": "https://localhost:8080/",
          "height": 301
        },
        "id": "sI7xVRGSWLv9",
        "outputId": "6fc8c037-e680-4a2f-f940-5312f1c90b20"
      },
      "execution_count": 59,
      "outputs": [
        {
          "output_type": "display_data",
          "data": {
            "text/plain": [
              "<Figure size 576x288 with 1 Axes>"
            ],
            "image/png": "[encoded data removed]"
          },
          "metadata": {}
        }
      ]
    },
    {
      "cell_type": "markdown",
      "source": [
        "**PENDIENTE COMENTARIOS DEL MODELO**"
      ],
      "metadata": {
        "id": "67k0eR0WsJw2"
      }
    },
    {
      "cell_type": "markdown",
      "source": [
        "c) Para el modelo de árbol de decisión (decision tree) realizar el entrenamiento buscando sus mejores hiperparámetros con GridSearchCV(). Los hiperparámetros que debes incluir en su búsqueda deben ser al menos los siguientes: ccp_alpha, criterion, max_depth, min_samples_split y class_weight. En este caso deberás usar la métrica (scoring) “precision”. Imprime la mejor combinación de parámetros obtenidos, así como el valor del mejor desempeño (score) obtenido con la métrica “precision”. ¿Cuál es la utilidad de la métrica “precision”? Incluye tus conclusiones. "
      ],
      "metadata": {
        "id": "QiO0uTRxabjM"
      }
    },
    {
      "cell_type": "code",
      "source": [
        "#obtenemos el modelo y los parametros\n",
        "modeloDT_iter = DecisionTreeClassifier(random_state=1)\n",
        "cvDT = cv\n",
        "\n",
        "#criterion de 'log_loss' da error, aun no identificado el por que\n",
        "dicc_grid2 = [{'ccp_alpha':[0.0001,0.01,0.1,1.0,10.,100],'criterion':['gini','entropy'],\n",
        "             'max_depth':[1,2,3,4,5,10,15,20,None],'min_samples_split':[2,3,4,5,6],'class_weight':['balanced', None]}]\n",
        "             \n",
        "grid2 = GridSearchCV(estimator=modeloDT_iter, \n",
        "                    param_grid=dicc_grid2, \n",
        "                    cv=cvDT, \n",
        "                    scoring=make_scorer(mi_precision),\n",
        "                    error_score='raise')"
      ],
      "metadata": {
        "id": "anLLuFNVaf7D"
      },
      "execution_count": 60,
      "outputs": []
    },
    {
      "cell_type": "code",
      "source": [
        "# Transformamos los datos de entrada:\n",
        "Xx = columnasTransformer.fit_transform(Xtv)\n",
        "\n",
        "grid2.fit(Xx, np.ravel(ytv))\n",
        "\n",
        "print('Mejor valor de precision obtenido con la mejor combinación:', grid2.best_score_)\n",
        "print('Mejor combinación de valores encontrados de los hiperparámetros:', grid2.best_params_)\n",
        "print('Métrica utilizada:', grid2.scoring)"
      ],
      "metadata": {
        "colab": {
          "base_uri": "https://localhost:8080/"
        },
        "id": "iccEUiToc5d0",
        "outputId": "6697f258-b6d5-4fbd-d99e-a3b92f3883ca"
      },
      "execution_count": 61,
      "outputs": [
        {
          "output_type": "stream",
          "name": "stdout",
          "text": [
            "Mejor valor de precision obtenido con la mejor combinación: 0.8768881231872536\n",
            "Mejor combinación de valores encontrados de los hiperparámetros: {'ccp_alpha': 0.0001, 'class_weight': 'balanced', 'criterion': 'gini', 'max_depth': 1, 'min_samples_split': 2}\n",
            "Métrica utilizada: make_scorer(mi_precision)\n"
          ]
        }
      ]
    },
    {
      "cell_type": "markdown",
      "source": [
        "d) Con los mejores valores de los hiperparámetros encontrados con la métrica “precision” para el modelo de árbol de decisión, obtener las curvas de aprendizaje (learning curve), incrementando el tamaño del conjunto de entrenamiento al menos 20 veces. Si lo crees adecuado, puedes hacer los ajustes que consideres adecuados para mejorar el resultado y evitar el sobreentrenamiento o el subentrenamiento."
      ],
      "metadata": {
        "id": "QuibMwWNgaEM"
      }
    },
    {
      "cell_type": "code",
      "source": [
        "#obtenemos el modelo y los parametros\n",
        "modeloDT_best = DecisionTreeClassifier(ccp_alpha=grid2.best_params_['ccp_alpha'],class_weight=grid2.best_params_['class_weight'],criterion=grid2.best_params_['criterion'],\n",
        "                                       max_depth=grid2.best_params_['max_depth'],min_samples_split=grid2.best_params_['min_samples_split'],random_state=1)\n",
        "cvLC = cv\n",
        "#definimos los al menos 20 puntos de particion\n",
        "delta_train_sz = np.linspace(0.1, 1.0, 20)\n",
        "#obtenemos los datos de X transformados\n",
        "Xx = columnasTransformer.fit_transform(Xtv)\n",
        "\n",
        "#obtenemos la learning curve\n",
        "train_sizes, train_scores, valid_scores = learning_curve(estimator=modeloDT_best, \n",
        "                                                        X=Xx, \n",
        "                                                        y=np.ravel(ytv),\n",
        "                                                        cv=cvLC, \n",
        "                                                        train_sizes=delta_train_sz,\n",
        "                                                        scoring=make_scorer(mi_precision))\n",
        "\n",
        "# Obtengamos la gráfica de las curvas de aprendizaje \n",
        "# cuando se incrementa el tamaño de la muestra:\n",
        "\n",
        "train_mean = np.mean(train_scores, axis=1)\n",
        "train_std = np.std(train_scores, axis=1)\n",
        "valid_mean = np.mean(valid_scores, axis=1)\n",
        "valid_std = np.std(valid_scores, axis=1)\n",
        "\n",
        "plt.plot(train_sizes, train_mean, color='blue', marker='o', markersize=5, label='Training')\n",
        "\n",
        "plt.plot(train_sizes, valid_mean, color='red', marker='o', markersize=5, label='Validation')\n",
        "\n",
        "plt.title('Función learning_curve() para mejores parametros de DT')\n",
        "plt.xlabel('Tamaño del conjunto de entrenamiento')\n",
        "plt.ylabel('precision')\n",
        "plt.grid(b=True)\n",
        "plt.legend(loc='lower right')\n",
        "plt.show()"
      ],
      "metadata": {
        "colab": {
          "base_uri": "https://localhost:8080/",
          "height": 301
        },
        "id": "NQqDwD3-gulj",
        "outputId": "6408cb41-f707-4369-e709-fa162d0dfcc8"
      },
      "execution_count": 62,
      "outputs": [
        {
          "output_type": "display_data",
          "data": {
            "text/plain": [
              "<Figure size 576x288 with 1 Axes>"
            ],
            "image/png": "[encoded data removed]"
          },
          "metadata": {}
        }
      ]
    },
    {
      "cell_type": "markdown",
      "source": [
        "**PENDIENTE COMENTARIOS DEL MODELO**"
      ],
      "metadata": {
        "id": "9FsJHK24sLIu"
      }
    },
    {
      "cell_type": "markdown",
      "source": [
        "e) Para el modelo de bosque aleatorio (random forest) realizar el entrenamiento buscando sus mejores hiperparámetros con GridSearchCV(). Los hiperparámetros que debes incluir en su búsqueda deben ser al menos los siguientes: ccp_alpha, criterion, max_depth, min_samples_split y class_weight. En este caso deberás usar la métrica (scoring) “recall”. Imprime la mejor combinación de parámetros obtenidos, así como el valor del mejor desempeño (score) obtenido con la métrica “recall”. ¿Cuál es la utilidad de la métrica “recall”? Incluye tus conclusiones.  \n",
        "\n",
        "NOTA: Toma en cuenta que el método de random forest pude tardar varios minutos en llevar a cabo  "
      ],
      "metadata": {
        "id": "8X1mso2Mhg4D"
      }
    },
    {
      "cell_type": "code",
      "source": [
        "#obtenemos el modelo y los parametros\n",
        "modeloRF_iter = RandomForestClassifier(random_state=1)\n",
        "cvDT = cv\n",
        "\n",
        "#criterion de 'log_loss' da error, aun no identificado el por que\n",
        "dicc_grid3 = [{'ccp_alpha':[0.0001,0.01,0.1,1.0,10.,100],'criterion':['gini','entropy'],\n",
        "             'max_depth':[1,5,10,15,20,None],'min_samples_split':[2,3,4,5,6],'class_weight':['balanced','balanced_subsample', None]}]\n",
        "             \n",
        "grid3 = GridSearchCV(estimator=modeloRF_iter, \n",
        "                    param_grid=dicc_grid3, \n",
        "                    cv=cvDT, \n",
        "                    scoring=make_scorer(mi_recall),\n",
        "                    error_score='raise')\n",
        "\n",
        "#toma horas acabar de correr esto, debe haber algo a corregir"
      ],
      "metadata": {
        "id": "bIFUFnCChoUT"
      },
      "execution_count": 63,
      "outputs": []
    },
    {
      "cell_type": "code",
      "source": [
        "# Transformamos los datos de entrada:\n",
        "Xx = columnasTransformer.fit_transform(Xtv)\n",
        "\n",
        "grid3.fit(Xx, np.ravel(ytv))\n",
        "\n",
        "print('Mejor valor de recall obtenido con la mejor combinación:', grid3.best_score_)\n",
        "print('Mejor combinación de valores encontrados de los hiperparámetros:', grid3.best_params_)\n",
        "print('Métrica utilizada:', grid3.scoring)"
      ],
      "metadata": {
        "colab": {
          "base_uri": "https://localhost:8080/"
        },
        "id": "lBXXq9K7iY7r",
        "outputId": "5d80ad70-9c2f-41a8-97c2-a7f04c535518"
      },
      "execution_count": 64,
      "outputs": [
        {
          "output_type": "stream",
          "name": "stdout",
          "text": [
            "Mejor valor de recall obtenido con la mejor combinación: 1.0\n",
            "Mejor combinación de valores encontrados de los hiperparámetros: {'ccp_alpha': 0.0001, 'class_weight': None, 'criterion': 'gini', 'max_depth': 1, 'min_samples_split': 2}\n",
            "Métrica utilizada: make_scorer(mi_recall)\n"
          ]
        }
      ]
    },
    {
      "cell_type": "markdown",
      "source": [
        "f) Con los mejores valores de los hiperparámetros encontrados con la métrica “recall” para el modelo de bosque aleatorio, obtener las curvas de validación (validation curve), incrementando la complejidad del modelo a través del hiperparámetro “max_depth” con al menos 10 valores. Si lo crees adecuado, puedes hacer los ajustes que consideres adecuados para mejorar el resultado y evitar el sobreentrenamiento o el subentrenamiento. "
      ],
      "metadata": {
        "id": "yeJNtryRih2C"
      }
    },
    {
      "cell_type": "code",
      "source": [
        "#obtenemos el modelo y los parametros de cross validation\n",
        "modeloRF_best = RandomForestClassifier(ccp_alpha=grid3.best_params_['ccp_alpha'],class_weight=grid3.best_params_['class_weight'],criterion=grid3.best_params_['criterion'],\n",
        "                                       max_depth=grid3.best_params_['max_depth'],min_samples_split=grid3.best_params_['min_samples_split'],random_state=1)\n",
        "cvVC = cv\n",
        "\n",
        "delta_max_depth = np.linspace(1, 10, 10)\n",
        "\n",
        "train_scores, valid_scores = validation_curve(modeloRF_best, \n",
        "                                              Xx, \n",
        "                                              np.ravel(ytv), \n",
        "                                              param_name=\"max_depth\", \n",
        "                                              param_range=delta_max_depth,\n",
        "                                              cv=cvVC,\n",
        "                                              scoring=make_scorer(mi_recall))\n",
        "\n",
        "train_mean = np.mean(train_scores, axis=1)\n",
        "train_std = np.std(train_scores, axis=1)\n",
        "valid_mean = np.mean(valid_scores, axis=1)\n",
        "valid_std = np.std(valid_scores, axis=1)\n",
        "\n",
        "# Curva de entrenamiento con la métrica de exactitud (accuracy):\n",
        "plt.plot(delta_max_depth, train_mean, color='blue', marker='o', markersize=5, label='Training')\n",
        "\n",
        "# Curva de validación:\n",
        "plt.plot(delta_max_depth, valid_mean, color='red', marker='o', markersize=5, label='Validation')\n",
        "\n",
        "plt.title('Función validation_curve() para Random Forest')\n",
        "plt.xlabel('Valores del parámetro max_depth')\n",
        "plt.ylabel('recall')\n",
        "plt.grid(b=True)\n",
        "plt.legend(loc='lower right')\n",
        "plt.show()"
      ],
      "metadata": {
        "colab": {
          "base_uri": "https://localhost:8080/",
          "height": 301
        },
        "id": "7hTlIZHAioDq",
        "outputId": "e8227d20-2ad6-4a6f-ec35-55c327f67897"
      },
      "execution_count": 65,
      "outputs": [
        {
          "output_type": "display_data",
          "data": {
            "text/plain": [
              "<Figure size 576x288 with 1 Axes>"
            ],
            "image/png": "[encoded data removed]"
          },
          "metadata": {}
        }
      ]
    },
    {
      "cell_type": "markdown",
      "source": [
        "**PENDIENTE COMENTARIOS DEL MODELO**"
      ],
      "metadata": {
        "id": "JesVo9D_sMGe"
      }
    },
    {
      "cell_type": "markdown",
      "source": [
        "#**Ejercicio-6.**"
      ],
      "metadata": {
        "id": "W2S7LI0NC9wE"
      }
    },
    {
      "cell_type": "markdown",
      "source": [
        "6. Para cada uno de estos tres modelos, con las métricas que se consideraron en cada caso y usando el conjunto de Prueba que no has utilizado hasta ahora, obtener los modelos finales como se te indica a continuación. Deberás usar además como conjunto de entrenamiento el llamado modelo de entrenamiento “aumentado” que consiste en las datos que estuviste utilizando para entrenamiento y validación:  "
      ],
      "metadata": {
        "id": "WSVy2tl8nn9N"
      }
    },
    {
      "cell_type": "markdown",
      "source": [
        "a) Obtener el  modelo de regresión logística con los mejores parámetros que hayas encontrado con la métrica f1-score utilizada. Imprimir el valor de dicha métrica e incluye tus conclusiones finales para este caso. Incluir un gráfico del árbol de decisión final obtenido. "
      ],
      "metadata": {
        "id": "1MliLiyFnvL9"
      }
    },
    {
      "cell_type": "code",
      "source": [
        "modelRL_best = LogisticRegression(C=0.1,\n",
        "                                  class_weight=None,\n",
        "                                  penalty='l2',\n",
        "                                  solver='liblinear',\n",
        "                                  random_state=1)\n",
        "\n",
        "# Entrenamos el modelo por última vez con los datos de entrenamiento\n",
        "Xct = columnasTransformer.fit(Xtv)\n",
        "Xxt = Xct.transform(Xtv)\n",
        "modelRL_best.fit(Xxt, np.ravel(ytv))\n",
        "\n",
        "# Transformamos los datos de prueba y los utilizamos por primera vez para obtener sus predicciones\n",
        "# y desempeño del modelo:\n",
        "\n",
        "Xxtest = Xct.transform(Xtest)\n",
        "print(mi_f1score(np.ravel(ytest),modelRL_best.predict(Xxtest)))"
      ],
      "metadata": {
        "id": "x6uBleJUC_AU",
        "colab": {
          "base_uri": "https://localhost:8080/"
        },
        "outputId": "4633f101-ff26-41fa-b057-2e23b86ad32b"
      },
      "execution_count": 66,
      "outputs": [
        {
          "output_type": "stream",
          "name": "stdout",
          "text": [
            "0.8198198198198198\n"
          ]
        }
      ]
    },
    {
      "cell_type": "markdown",
      "source": [
        "**PENDIENTE COMENTARIOS DEL MODELO**"
      ],
      "metadata": {
        "id": "fMp93xj_vxi-"
      }
    },
    {
      "cell_type": "markdown",
      "source": [
        "b) Obtener el  modelo de árbol de decisiones con los mejores parámetros que hayas encontrado con la métrica “precision” utilizada. Imprimir el valor de dicha métrica e incluye tus conclusiones finales para este caso.  "
      ],
      "metadata": {
        "id": "4D46RarOvyXd"
      }
    },
    {
      "cell_type": "code",
      "source": [
        "modelDT_best = DecisionTreeClassifier(ccp_alpha=0.0001,\n",
        "                                  class_weight='balanced',\n",
        "                                  criterion='gini',\n",
        "                                  max_depth=1,\n",
        "                                  min_samples_split=2)\n",
        "\n",
        "# Entrenamos el modelo por última vez con los datos de entrenamiento\n",
        "Xct = columnasTransformer.fit(Xtv)\n",
        "Xxt = Xct.transform(Xtv)\n",
        "modelDT_best.fit(Xxt, np.ravel(ytv))\n",
        "\n",
        "# Transformamos los datos de prueba y los utilizamos por primera vez para obtener sus predicciones\n",
        "# y desempeño del modelo:\n",
        "\n",
        "Xxtest = Xct.transform(Xtest)\n",
        "print(mi_precision(np.ravel(ytest),modelDT_best.predict(Xxtest)))"
      ],
      "metadata": {
        "id": "n0P_AcyjC_Dh",
        "colab": {
          "base_uri": "https://localhost:8080/"
        },
        "outputId": "da4e9cad-e5be-4ad4-9b99-a0468cb8d972"
      },
      "execution_count": 67,
      "outputs": [
        {
          "output_type": "stream",
          "name": "stdout",
          "text": [
            "0.819672131147541\n"
          ]
        }
      ]
    },
    {
      "cell_type": "code",
      "source": [
        "dot_data = tree.export_graphviz(decision_tree=modelDT_best, \n",
        "                                out_file=None,\n",
        "                                max_depth=None,\n",
        "                                feature_names=None,\n",
        "                                class_names=['0', '1'],\n",
        "                                filled=True,\n",
        "                                rotate=True,\n",
        "                                proportion=False)\n",
        "\n",
        "graph = pydotplus.graph_from_dot_data(dot_data)\n",
        "Image(graph.create_png())"
      ],
      "metadata": {
        "colab": {
          "base_uri": "https://localhost:8080/",
          "height": 258
        },
        "id": "b-mhB95vxg-k",
        "outputId": "36016f3b-09ac-4355-8ba7-9922aa967ba2"
      },
      "execution_count": 68,
      "outputs": [
        {
          "output_type": "execute_result",
          "data": {
            "image/png": "[encoded data removed]",
            "text/plain": [
              "<IPython.core.display.Image object>"
            ]
          },
          "metadata": {},
          "execution_count": 68
        }
      ]
    },
    {
      "cell_type": "markdown",
      "source": [
        "**PENDIENTE COMENTARIOS DEL MODELO**"
      ],
      "metadata": {
        "id": "ufM6p9zow40-"
      }
    },
    {
      "cell_type": "markdown",
      "source": [
        "c) Obtener el  modelo de bosque aleatorio con los mejores parámetros que hayas \n",
        "encontrado con la métrica “recall” utilizada. Imprimir el valor de dicha métrica e incluye tus conclusiones finales para este caso. "
      ],
      "metadata": {
        "id": "Vb-DY1eDw5b9"
      }
    },
    {
      "cell_type": "code",
      "source": [
        "modelRF_best = RandomForestClassifier(ccp_alpha=0.0001,\n",
        "                                  class_weight=None,\n",
        "                                  criterion='gini',\n",
        "                                  max_depth=1,\n",
        "                                  min_samples_split=2)\n",
        "\n",
        "# Entrenamos el modelo por última vez con los datos de entrenamiento\n",
        "Xct = columnasTransformer.fit(Xtv)\n",
        "Xxt = Xct.transform(Xtv)\n",
        "modelRF_best.fit(Xxt, np.ravel(ytv))\n",
        "\n",
        "# Transformamos los datos de prueba y los utilizamos por primera vez para obtener sus predicciones\n",
        "# y desempeño del modelo:\n",
        "\n",
        "Xxtest = Xct.transform(Xtest)\n",
        "print(mi_recall(np.ravel(ytest),modelRF_best.predict(Xxtest)))"
      ],
      "metadata": {
        "colab": {
          "base_uri": "https://localhost:8080/"
        },
        "id": "nBDiyccxw_HO",
        "outputId": "b178aca1-0339-449a-a9da-673b90ef2210"
      },
      "execution_count": 69,
      "outputs": [
        {
          "output_type": "stream",
          "name": "stdout",
          "text": [
            "1.0\n"
          ]
        }
      ]
    },
    {
      "cell_type": "markdown",
      "source": [
        "**PENDIENTE COMENTARIOS DEL MODELO**"
      ],
      "metadata": {
        "id": "INuSMY2exPcz"
      }
    },
    {
      "cell_type": "markdown",
      "source": [
        "###**Fin de la Actividad de la semana 6.**"
      ],
      "metadata": {
        "id": "7ql_r2G-DB_m"
      }
    }
  ]
}